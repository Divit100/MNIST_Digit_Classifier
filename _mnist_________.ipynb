{
  "nbformat": 4,
  "nbformat_minor": 0,
  "metadata": {
    "kernelspec": {
      "display_name": "Python 3",
      "language": "python",
      "name": "python3"
    },
    "language_info": {
      "codemirror_mode": {
        "name": "ipython",
        "version": 3
      },
      "file_extension": ".py",
      "mimetype": "text/x-python",
      "name": "python",
      "nbconvert_exporter": "python",
      "pygments_lexer": "ipython3",
      "version": "3.7.7"
    },
    "colab": {
      "name": "@@mnist_________.ipynb",
      "provenance": [],
      "include_colab_link": true
    }
  },
  "cells": [
    {
      "cell_type": "markdown",
      "metadata": {
        "id": "view-in-github",
        "colab_type": "text"
      },
      "source": [
        "<a href=\"https://colab.research.google.com/github/Divit100/MNIST_Digit_Classifier/blob/master/_mnist_________.ipynb\" target=\"_parent\"><img src=\"https://colab.research.google.com/assets/colab-badge.svg\" alt=\"Open In Colab\"/></a>"
      ]
    },
    {
      "cell_type": "code",
      "metadata": {
        "id": "lWOB7tBa6VRX",
        "colab_type": "code",
        "colab": {}
      },
      "source": [
        "import numpy as np\n",
        "import matplotlib.pyplot as plt\n",
        "%matplotlib inline\n",
        "import pandas as pd\n",
        "import seaborn as sns"
      ],
      "execution_count": null,
      "outputs": []
    },
    {
      "cell_type": "code",
      "metadata": {
        "id": "1e3vedqN6VRb",
        "colab_type": "code",
        "colab": {}
      },
      "source": [
        "from tensorflow.keras.datasets import mnist"
      ],
      "execution_count": null,
      "outputs": []
    },
    {
      "cell_type": "code",
      "metadata": {
        "id": "gXPFdj9y6VRe",
        "colab_type": "code",
        "colab": {},
        "outputId": "288af287-b4c6-4481-9826-4db4f531e6e2"
      },
      "source": [
        "(X_train,y_train),(X_test,y_test)=mnist.load_data()"
      ],
      "execution_count": null,
      "outputs": [
        {
          "output_type": "stream",
          "text": [
            "Downloading data from https://storage.googleapis.com/tensorflow/tf-keras-datasets/mnist.npz\n",
            "11493376/11490434 [==============================] - 1s 0us/step\n"
          ],
          "name": "stdout"
        }
      ]
    },
    {
      "cell_type": "code",
      "metadata": {
        "id": "cFtF0kJH6VRi",
        "colab_type": "code",
        "colab": {},
        "outputId": "fe9b6044-b33d-4d2b-98b2-cc28673bb68f"
      },
      "source": [
        "plt.imshow(X_train[0],cmap='gray')"
      ],
      "execution_count": null,
      "outputs": [
        {
          "output_type": "execute_result",
          "data": {
            "text/plain": [
              "<matplotlib.image.AxesImage at 0x20bd343d508>"
            ]
          },
          "metadata": {
            "tags": []
          },
          "execution_count": 5
        },
        {
          "output_type": "display_data",
          "data": {
            "image/png": "[encoded data removed]",
            "text/plain": [
              "<Figure size 432x288 with 1 Axes>"
            ]
          },
          "metadata": {
            "tags": [],
            "needs_background": "light"
          }
        }
      ]
    },
    {
      "cell_type": "code",
      "metadata": {
        "id": "0DVA5lr06VRk",
        "colab_type": "code",
        "colab": {}
      },
      "source": [
        "from tensorflow.keras.utils import to_categorical"
      ],
      "execution_count": null,
      "outputs": []
    },
    {
      "cell_type": "code",
      "metadata": {
        "id": "SXWbppgH6VRn",
        "colab_type": "code",
        "colab": {}
      },
      "source": [
        "y_cat_train=to_categorical(y_train,num_classes=10)"
      ],
      "execution_count": null,
      "outputs": []
    },
    {
      "cell_type": "code",
      "metadata": {
        "id": "oIE1ZvYH6VRp",
        "colab_type": "code",
        "colab": {}
      },
      "source": [
        "y_cat_test=to_categorical(y_test,num_classes=10)"
      ],
      "execution_count": null,
      "outputs": []
    },
    {
      "cell_type": "code",
      "metadata": {
        "id": "XtdNJUvQ6VRs",
        "colab_type": "code",
        "colab": {}
      },
      "source": [
        "X_train=X_train/255\n",
        "X_test=X_test/255"
      ],
      "execution_count": null,
      "outputs": []
    },
    {
      "cell_type": "code",
      "metadata": {
        "id": "NYy9CvHu6VRv",
        "colab_type": "code",
        "colab": {}
      },
      "source": [
        "X_train=X_train.reshape(60000,28,28,1)"
      ],
      "execution_count": null,
      "outputs": []
    },
    {
      "cell_type": "code",
      "metadata": {
        "id": "Ja4pDwYq6VRy",
        "colab_type": "code",
        "colab": {}
      },
      "source": [
        "X_test=X_test.reshape(10000,28,28,1)"
      ],
      "execution_count": null,
      "outputs": []
    },
    {
      "cell_type": "code",
      "metadata": {
        "id": "eoPGOx3i6VR0",
        "colab_type": "code",
        "colab": {}
      },
      "source": [
        "from tensorflow.keras.models import Sequential\n",
        "from tensorflow.keras.layers import Dense,MaxPool2D,Conv2D,Flatten"
      ],
      "execution_count": null,
      "outputs": []
    },
    {
      "cell_type": "code",
      "metadata": {
        "id": "sNhaOtau6VR3",
        "colab_type": "code",
        "colab": {}
      },
      "source": [
        "model=Sequential()"
      ],
      "execution_count": null,
      "outputs": []
    },
    {
      "cell_type": "code",
      "metadata": {
        "id": "HrmU9PTg6VR5",
        "colab_type": "code",
        "colab": {}
      },
      "source": [
        "model.add(Conv2D(filters=32,kernel_size=(4,4),input_shape=(28,28,1)))\n",
        "model.add(MaxPool2D(pool_size=(2,2)))\n",
        "model.add(Flatten())\n",
        "\n",
        "\n",
        "model.add(Dense(256,activation='relu'))\n",
        "\n",
        "model.add(Dense(10,activation='softmax'))\n",
        "\n",
        "model.compile(optimizer='adam',loss='categorical_crossentropy',metrics=['accuracy'])"
      ],
      "execution_count": null,
      "outputs": []
    },
    {
      "cell_type": "code",
      "metadata": {
        "id": "efpIH34G6VR9",
        "colab_type": "code",
        "colab": {}
      },
      "source": [
        "from tensorflow.keras.callbacks import EarlyStopping"
      ],
      "execution_count": null,
      "outputs": []
    },
    {
      "cell_type": "code",
      "metadata": {
        "id": "nJECPw7-6VR_",
        "colab_type": "code",
        "colab": {}
      },
      "source": [
        "early_stop=EarlyStopping(monitor='accuracy',mode='max',patience=1)"
      ],
      "execution_count": null,
      "outputs": []
    },
    {
      "cell_type": "code",
      "metadata": {
        "id": "on2m2iDM6VSB",
        "colab_type": "code",
        "colab": {},
        "outputId": "f4645b6d-9e67-4176-e676-cd04e28297e6"
      },
      "source": [
        "model.fit(X_train,y_cat_train,epochs=10,validation_data=(X_test,y_cat_test),verbose=2,callbacks=[early_stop])"
      ],
      "execution_count": null,
      "outputs": [
        {
          "output_type": "stream",
          "text": [
            "Train on 60000 samples, validate on 10000 samples\n",
            "Epoch 1/10\n",
            "60000/60000 - 35s - loss: 0.0330 - accuracy: 0.9894 - val_loss: 0.0523 - val_accuracy: 0.9842\n",
            "Epoch 2/10\n",
            "60000/60000 - 38s - loss: 0.0226 - accuracy: 0.9930 - val_loss: 0.0716 - val_accuracy: 0.9793\n",
            "Epoch 3/10\n",
            "60000/60000 - 38s - loss: 0.0182 - accuracy: 0.9939 - val_loss: 0.0718 - val_accuracy: 0.9827\n",
            "Epoch 4/10\n",
            "60000/60000 - 37s - loss: 0.0133 - accuracy: 0.9958 - val_loss: 0.0776 - val_accuracy: 0.9828\n",
            "Epoch 5/10\n",
            "60000/60000 - 38s - loss: 0.0128 - accuracy: 0.9958 - val_loss: 0.0793 - val_accuracy: 0.9829\n",
            "Epoch 6/10\n",
            "60000/60000 - 38s - loss: 0.0102 - accuracy: 0.9966 - val_loss: 0.0859 - val_accuracy: 0.9816\n",
            "Epoch 7/10\n",
            "60000/60000 - 36s - loss: 0.0077 - accuracy: 0.9977 - val_loss: 0.0958 - val_accuracy: 0.9813\n",
            "Epoch 8/10\n",
            "60000/60000 - 38s - loss: 0.0110 - accuracy: 0.9965 - val_loss: 0.1013 - val_accuracy: 0.9831\n",
            "Epoch 9/10\n",
            "60000/60000 - 37s - loss: 0.0077 - accuracy: 0.9976 - val_loss: 0.1040 - val_accuracy: 0.9830\n",
            "Epoch 10/10\n",
            "60000/60000 - 38s - loss: 0.0088 - accuracy: 0.9973 - val_loss: 0.1047 - val_accuracy: 0.9832\n"
          ],
          "name": "stdout"
        },
        {
          "output_type": "execute_result",
          "data": {
            "text/plain": [
              "<tensorflow.python.keras.callbacks.History at 0x20bee6e8048>"
            ]
          },
          "metadata": {
            "tags": []
          },
          "execution_count": 35
        }
      ]
    },
    {
      "cell_type": "code",
      "metadata": {
        "id": "QdSFx1Q16VSE",
        "colab_type": "code",
        "colab": {}
      },
      "source": [
        "metrics=pd.DataFrame(model.history.history)"
      ],
      "execution_count": null,
      "outputs": []
    },
    {
      "cell_type": "code",
      "metadata": {
        "id": "HDVYn8Jy6VSG",
        "colab_type": "code",
        "colab": {},
        "outputId": "6401a5f8-70dc-4fa4-a3d5-9897a57488ac"
      },
      "source": [
        "metrics[['loss','val_loss']].plot()"
      ],
      "execution_count": null,
      "outputs": [
        {
          "output_type": "execute_result",
          "data": {
            "text/plain": [
              "<matplotlib.axes._subplots.AxesSubplot at 0x20bef7e9f48>"
            ]
          },
          "metadata": {
            "tags": []
          },
          "execution_count": 46
        },
        {
          "output_type": "display_data",
          "data": {
            "image/png": "[encoded data removed]",
            "text/plain": [
              "<Figure size 432x288 with 1 Axes>"
            ]
          },
          "metadata": {
            "tags": [],
            "needs_background": "light"
          }
        }
      ]
    },
    {
      "cell_type": "code",
      "metadata": {
        "id": "DsvN-ls36VSJ",
        "colab_type": "code",
        "colab": {},
        "outputId": "9293afea-7617-4c2c-c42d-5720227e82ba"
      },
      "source": [
        "metrics"
      ],
      "execution_count": null,
      "outputs": [
        {
          "output_type": "execute_result",
          "data": {
            "text/html": [
              "<div>\n",
              "<style scoped>\n",
              "    .dataframe tbody tr th:only-of-type {\n",
              "        vertical-align: middle;\n",
              "    }\n",
              "\n",
              "    .dataframe tbody tr th {\n",
              "        vertical-align: top;\n",
              "    }\n",
              "\n",
              "    .dataframe thead th {\n",
              "        text-align: right;\n",
              "    }\n",
              "</style>\n",
              "<table border=\"1\" class=\"dataframe\">\n",
              "  <thead>\n",
              "    <tr style=\"text-align: right;\">\n",
              "      <th></th>\n",
              "      <th>loss</th>\n",
              "      <th>accuracy</th>\n",
              "      <th>val_loss</th>\n",
              "      <th>val_accuracy</th>\n",
              "    </tr>\n",
              "  </thead>\n",
              "  <tbody>\n",
              "    <tr>\n",
              "      <th>0</th>\n",
              "      <td>0.033034</td>\n",
              "      <td>0.989450</td>\n",
              "      <td>0.052257</td>\n",
              "      <td>0.9842</td>\n",
              "    </tr>\n",
              "    <tr>\n",
              "      <th>1</th>\n",
              "      <td>0.022571</td>\n",
              "      <td>0.992967</td>\n",
              "      <td>0.071591</td>\n",
              "      <td>0.9793</td>\n",
              "    </tr>\n",
              "    <tr>\n",
              "      <th>2</th>\n",
              "      <td>0.018178</td>\n",
              "      <td>0.993883</td>\n",
              "      <td>0.071782</td>\n",
              "      <td>0.9827</td>\n",
              "    </tr>\n",
              "    <tr>\n",
              "      <th>3</th>\n",
              "      <td>0.013267</td>\n",
              "      <td>0.995767</td>\n",
              "      <td>0.077604</td>\n",
              "      <td>0.9828</td>\n",
              "    </tr>\n",
              "    <tr>\n",
              "      <th>4</th>\n",
              "      <td>0.012809</td>\n",
              "      <td>0.995800</td>\n",
              "      <td>0.079268</td>\n",
              "      <td>0.9829</td>\n",
              "    </tr>\n",
              "    <tr>\n",
              "      <th>5</th>\n",
              "      <td>0.010225</td>\n",
              "      <td>0.996617</td>\n",
              "      <td>0.085941</td>\n",
              "      <td>0.9816</td>\n",
              "    </tr>\n",
              "    <tr>\n",
              "      <th>6</th>\n",
              "      <td>0.007685</td>\n",
              "      <td>0.997717</td>\n",
              "      <td>0.095796</td>\n",
              "      <td>0.9813</td>\n",
              "    </tr>\n",
              "    <tr>\n",
              "      <th>7</th>\n",
              "      <td>0.010984</td>\n",
              "      <td>0.996467</td>\n",
              "      <td>0.101289</td>\n",
              "      <td>0.9831</td>\n",
              "    </tr>\n",
              "    <tr>\n",
              "      <th>8</th>\n",
              "      <td>0.007741</td>\n",
              "      <td>0.997617</td>\n",
              "      <td>0.104010</td>\n",
              "      <td>0.9830</td>\n",
              "    </tr>\n",
              "    <tr>\n",
              "      <th>9</th>\n",
              "      <td>0.008755</td>\n",
              "      <td>0.997333</td>\n",
              "      <td>0.104664</td>\n",
              "      <td>0.9832</td>\n",
              "    </tr>\n",
              "  </tbody>\n",
              "</table>\n",
              "</div>"
            ],
            "text/plain": [
              "       loss  accuracy  val_loss  val_accuracy\n",
              "0  0.033034  0.989450  0.052257        0.9842\n",
              "1  0.022571  0.992967  0.071591        0.9793\n",
              "2  0.018178  0.993883  0.071782        0.9827\n",
              "3  0.013267  0.995767  0.077604        0.9828\n",
              "4  0.012809  0.995800  0.079268        0.9829\n",
              "5  0.010225  0.996617  0.085941        0.9816\n",
              "6  0.007685  0.997717  0.095796        0.9813\n",
              "7  0.010984  0.996467  0.101289        0.9831\n",
              "8  0.007741  0.997617  0.104010        0.9830\n",
              "9  0.008755  0.997333  0.104664        0.9832"
            ]
          },
          "metadata": {
            "tags": []
          },
          "execution_count": 47
        }
      ]
    },
    {
      "cell_type": "code",
      "metadata": {
        "id": "FcvrNs3C6VSL",
        "colab_type": "code",
        "colab": {},
        "outputId": "1fa4c4dd-f75a-46dd-f361-996403a0eb7c"
      },
      "source": [
        "metrics[['accuracy','val_accuracy']].plot()"
      ],
      "execution_count": null,
      "outputs": [
        {
          "output_type": "execute_result",
          "data": {
            "text/plain": [
              "<matplotlib.axes._subplots.AxesSubplot at 0x20bef844d08>"
            ]
          },
          "metadata": {
            "tags": []
          },
          "execution_count": 48
        },
        {
          "output_type": "display_data",
          "data": {
            "image/png": "[encoded data removed]",
            "text/plain": [
              "<Figure size 432x288 with 1 Axes>"
            ]
          },
          "metadata": {
            "tags": [],
            "needs_background": "light"
          }
        }
      ]
    },
    {
      "cell_type": "code",
      "metadata": {
        "id": "E24Px2XZ6VSO",
        "colab_type": "code",
        "colab": {}
      },
      "source": [
        "from sklearn.metrics import classification_report,confusion_matrix"
      ],
      "execution_count": null,
      "outputs": []
    },
    {
      "cell_type": "code",
      "metadata": {
        "id": "DVwYjSlN6VSQ",
        "colab_type": "code",
        "colab": {}
      },
      "source": [
        "predictions=model.predict_classes(X_test)"
      ],
      "execution_count": null,
      "outputs": []
    },
    {
      "cell_type": "code",
      "metadata": {
        "id": "LJrGfUJg6VSS",
        "colab_type": "code",
        "colab": {},
        "outputId": "56c7c5e4-c2f7-4cc7-d1d1-514bb71342bf"
      },
      "source": [
        "print(classification_report(y_test,predictions))"
      ],
      "execution_count": null,
      "outputs": [
        {
          "output_type": "stream",
          "text": [
            "              precision    recall  f1-score   support\n",
            "\n",
            "           0       0.98      0.99      0.99       980\n",
            "           1       0.99      1.00      0.99      1135\n",
            "           2       0.99      0.98      0.98      1032\n",
            "           3       0.98      0.99      0.99      1010\n",
            "           4       0.97      0.99      0.98       982\n",
            "           5       0.97      0.99      0.98       892\n",
            "           6       0.99      0.97      0.98       958\n",
            "           7       0.98      0.98      0.98      1028\n",
            "           8       0.99      0.98      0.98       974\n",
            "           9       0.99      0.96      0.97      1009\n",
            "\n",
            "    accuracy                           0.98     10000\n",
            "   macro avg       0.98      0.98      0.98     10000\n",
            "weighted avg       0.98      0.98      0.98     10000\n",
            "\n"
          ],
          "name": "stdout"
        }
      ]
    },
    {
      "cell_type": "code",
      "metadata": {
        "id": "kQ9LKmZj6VSV",
        "colab_type": "code",
        "colab": {},
        "outputId": "d05f8f34-ca68-44ac-d96a-5e5fc4db83f6"
      },
      "source": [
        "confusion_matrix(y_test,predictions)"
      ],
      "execution_count": null,
      "outputs": [
        {
          "output_type": "execute_result",
          "data": {
            "text/plain": [
              "array([[ 970,    2,    1,    0,    1,    1,    1,    1,    2,    1],\n",
              "       [   0, 1132,    0,    1,    0,    1,    1,    0,    0,    0],\n",
              "       [   2,    2, 1010,    1,    4,    0,    1,   10,    2,    0],\n",
              "       [   0,    0,    1, 1000,    0,    3,    0,    4,    1,    1],\n",
              "       [   0,    1,    3,    0,  972,    0,    2,    0,    0,    4],\n",
              "       [   0,    0,    0,    7,    0,  882,    2,    0,    1,    0],\n",
              "       [   6,    3,    2,    0,    9,    5,  933,    0,    0,    0],\n",
              "       [   1,    1,    5,    2,    0,    0,    0, 1012,    3,    4],\n",
              "       [   5,    0,    0,    6,    2,    7,    0,    2,  951,    1],\n",
              "       [   4,    4,    1,    3,    9,    8,    0,    7,    3,  970]],\n",
              "      dtype=int64)"
            ]
          },
          "metadata": {
            "tags": []
          },
          "execution_count": 56
        }
      ]
    },
    {
      "cell_type": "code",
      "metadata": {
        "id": "w4g9rT9Q6VSX",
        "colab_type": "code",
        "colab": {},
        "outputId": "63759526-67cd-40c7-cb12-e0304e879513"
      },
      "source": [
        "X_test[0].shape"
      ],
      "execution_count": null,
      "outputs": [
        {
          "output_type": "execute_result",
          "data": {
            "text/plain": [
              "(28, 28, 1)"
            ]
          },
          "metadata": {
            "tags": []
          },
          "execution_count": 58
        }
      ]
    },
    {
      "cell_type": "code",
      "metadata": {
        "id": "x1BppJb76VSa",
        "colab_type": "code",
        "colab": {}
      },
      "source": [
        ""
      ],
      "execution_count": null,
      "outputs": []
    }
  ]
}